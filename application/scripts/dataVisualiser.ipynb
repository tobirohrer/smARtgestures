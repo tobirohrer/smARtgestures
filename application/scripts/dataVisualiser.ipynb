{
 "cells": [
  {
   "cell_type": "code",
   "execution_count": 1,
   "metadata": {},
   "outputs": [],
   "source": [
    "import sys\n",
    "sys.path.append('..')\n",
    "from random import shuffle\n",
    "from mpl_toolkits.mplot3d import Axes3D\n",
    "import math\n",
    "import matplotlib.pyplot as plt\n",
    "import dataImporter\n",
    "import numpy as np"
   ]
  },
  {
   "cell_type": "markdown",
   "metadata": {},
   "source": [
    "# Data Plot 2D"
   ]
  },
  {
   "cell_type": "code",
   "execution_count": 2,
   "metadata": {
    "scrolled": true
   },
   "outputs": [
    {
     "name": "stdout",
     "output_type": "stream",
     "text": [
      "imported data of 43 gestures\n",
      "starting to cleanup gesture Data...\n",
      "done cleaning up. Removed 1 gestures\n",
      "starting to close gaps in gesture coordinate data...\n",
      "done closing gaps... Added 1287 coordinates\n",
      " \n",
      "42\n",
      "5\n",
      "[0, 0, 0, 1]\n",
      "[0, 0, 0, 1]\n",
      "[0, 0, 0, 1]\n",
      "[0, 0, 0, 1]\n",
      "[0, 0, 0, 1]\n",
      "[0, 0, 0, 1]\n",
      "[0, 0, 0, 1]\n",
      "[0, 0, 0, 1]\n",
      "[0, 0, 0, 1]\n",
      "[0, 0, 0, 1]\n",
      "[0, 0, 0, 1]\n",
      "[0, 0, 0, 1]\n",
      "[0, 0, 1, 0]\n",
      "[0, 0, 1, 0]\n",
      "[0, 0, 1, 0]\n",
      "[0, 0, 1, 0]\n",
      "[0, 0, 1, 0]\n",
      "[0, 0, 1, 0]\n",
      "[0, 0, 1, 0]\n",
      "[0, 0, 1, 0]\n",
      "[0, 0, 1, 0]\n",
      "[0, 0, 1, 0]\n",
      "[0, 0, 1, 0]\n",
      "[1, 0, 0, 0]\n",
      "[1, 0, 0, 0]\n",
      "[1, 0, 0, 0]\n",
      "[1, 0, 0, 0]\n",
      "[1, 0, 0, 0]\n",
      "[1, 0, 0, 0]\n",
      "[1, 0, 0, 0]\n",
      "[1, 0, 0, 0]\n",
      "[0, 1, 0, 0]\n",
      "[0, 1, 0, 0]\n",
      "[0, 1, 0, 0]\n",
      "[0, 1, 0, 0]\n",
      "[0, 1, 0, 0]\n",
      "[0, 1, 0, 0]\n",
      "[0, 1, 0, 0]\n",
      "[0, 1, 0, 0]\n",
      "[0, 1, 0, 0]\n",
      "[0, 1, 0, 0]\n",
      "[0, 1, 0, 0]\n"
     ]
    },
    {
     "data": {
      "image/png": "[encoded data removed]",
      "text/plain": [
       "<matplotlib.figure.Figure at 0x215ea6f6438>"
      ]
     },
     "metadata": {},
     "output_type": "display_data"
    }
   ],
   "source": [
    "display_data = dataImporter.get_discrete2D_data(dataImporter.read_data_from_file(\"G:\\\\smartgestures\\\\python\\\\gestureData\\\\fremdGestendaten\\\\Rebekka.json\"),True, False)\n",
    "print(len(display_data))\n",
    "\n",
    "row_count = math.ceil(len(display_data) / 10)\n",
    "if(row_count == 0):\n",
    "    row_count = 1\n",
    "\n",
    "print(row_count)\n",
    "\n",
    "f, axarr = plt.subplots(row_count,10,figsize=(15, 15))\n",
    "im_id = 0\n",
    "for i in range(row_count):\n",
    "    for j in range(10):\n",
    "        try:\n",
    "            axarr[i,j].imshow(display_data[im_id][0])\n",
    "            axarr[i,j].axis('off')\n",
    "            print(display_data[im_id][1])\n",
    "            im_id = im_id+1\n",
    "        except:\n",
    "            continue\n",
    "plt.show()"
   ]
  },
  {
   "cell_type": "code",
   "execution_count": 15,
   "metadata": {},
   "outputs": [
    {
     "name": "stdout",
     "output_type": "stream",
     "text": [
      "Using matplotlib backend: TkAgg\n"
     ]
    }
   ],
   "source": [
    "%matplotlib\n",
    "\n",
    "plt.matshow(display_data[3][0])\n",
    "plt.show()"
   ]
  },
  {
   "cell_type": "markdown",
   "metadata": {},
   "source": [
    "# Data Plot 3D"
   ]
  },
  {
   "cell_type": "code",
   "execution_count": 10,
   "metadata": {},
   "outputs": [
    {
     "name": "stdout",
     "output_type": "stream",
     "text": [
      "Using matplotlib backend: TkAgg\n",
      "imported data of 1 gestures\n",
      "starting to cleanup gesture Data...\n",
      "done cleaning up. Removed 0 gestures\n",
      "starting to close gaps in gesture coordinate data...\n",
      "done closing gaps... Added 5 coordinates\n",
      "augumented input data 8\n",
      "starting to transpose 8 discrete gestures\n",
      "having 16 gestures now\n",
      "starting to flip 16 discrete gestures on axis 0\n",
      "having 32 gestures now\n",
      "starting to flip 32 discrete gestures on axis 1\n",
      "having 64 gestures now\n",
      "starting to flip 64 discrete gestures on axis 2\n",
      "having 128 gestures now\n",
      "starting to shift 128 gestures\n",
      "having 256 now\n",
      "starting to shift down 256 gestures\n",
      "having 512 now\n",
      "starting to shift back 512 gestures\n",
      "having 1024 now\n",
      " \n",
      "compressing...\n",
      "1024\n"
     ]
    }
   ],
   "source": [
    "%matplotlib\n",
    "from mpl_toolkits.mplot3d import Axes3D\n",
    "import matplotlib.pyplot as plt\n",
    "\n",
    "display_data = dataImporter.get_discrete3D_data(dataImporter.read_data_from_file(\"G:\\\\smartgestures\\\\python\\\\gestureData\\\\plotWave.json\"),True, True)\n",
    "\n",
    "display_data = dataImporter.decompress_3D(display_data)\n",
    "print(len(display_data))\n",
    "\n",
    "fig = plt.figure()\n",
    "ax = fig.add_subplot(111, projection='3d')\n",
    "xs,ys,zs = np.nonzero(display_data[2][0])\n",
    "ax.scatter(xs,zs,ys)\n",
    "ax.set_xlabel('X Label')\n",
    "ax.set_ylabel('Z Label')\n",
    "ax.set_zlabel('Y Label')\n",
    "plt.xlim(0,40)\n",
    "plt.ylim(0,40)\n",
    "plt.show()\n",
    "\n"
   ]
  },
  {
   "cell_type": "markdown",
   "metadata": {},
   "source": [
    "# Data Plot 4D"
   ]
  },
  {
   "cell_type": "code",
   "execution_count": 14,
   "metadata": {},
   "outputs": [
    {
     "name": "stdout",
     "output_type": "stream",
     "text": [
      "Using matplotlib backend: TkAgg\n",
      "imported data of 1 gestures\n",
      "slowed down gestures... its 2 now\n",
      " \n",
      "[0 0 0 1 0 0 0 0]\n"
     ]
    },
    {
     "data": {
      "text/plain": [
       "<matplotlib.image.AxesImage at 0x25741822ac8>"
      ]
     },
     "execution_count": 14,
     "metadata": {},
     "output_type": "execute_result"
    }
   ],
   "source": [
    "%matplotlib\n",
    "from mpl_toolkits.mplot3d import Axes3D\n",
    "import matplotlib.pyplot as plt\n",
    "\n",
    "display_data = dataImporter.get_discrete2D_data(dataImporter.read_data_from_file(\"G:\\\\smartgestures\\\\python\\\\gestureData\\\\plotWave.json\"),False, False)\n",
    "print(display_data[1][1])\n",
    "\n",
    "plt.matshow(display_data[0][0])\n"
   ]
  },
  {
   "cell_type": "code",
   "execution_count": 12,
   "metadata": {},
   "outputs": [
    {
     "name": "stdout",
     "output_type": "stream",
     "text": [
      "imported data of 1 gestures\n",
      "slowed down gestures... its 2 now\n",
      " \n",
      "compressing...\n",
      "[[[[[5, 11, 5], 11.0], [[5, 12, 5], 13.0], [[5, 13, 5], 15.0], [[5, 14, 5], 16.0], [[5, 15, 5], 18.0], [[5, 16, 5], 19.0], [[6, 17, 5], 21.0], [[6, 18, 5], 22.0], [[6, 19, 5], 23.0], [[7, 19, 5], 25.0], [[7, 20, 5], 26.0], [[8, 20, 6], 27.0], [[8, 21, 6], 30.0], [[9, 21, 6], 32.0], [[9, 22, 6], 34.0], [[10, 21, 7], 35.0], [[11, 21, 7], 36.0], [[11, 21, 8], 37.0], [[12, 20, 8], 38.0], [[12, 20, 9], 39.0], [[13, 18, 9], 41.0], [[13, 18, 10], 42.0], [[13, 19, 9], 40.0], [[14, 11, 10], 60.0], [[14, 12, 10], 59.0], [[14, 13, 10], 57.0], [[14, 14, 10], 52.0], [[14, 15, 10], 48.0], [[14, 16, 10], 46.0], [[14, 17, 10], 44.0], [[15, 7, 10], 78.0], [[15, 8, 10], 70.0], [[15, 9, 10], 67.0], [[15, 10, 10], 65.0], [[15, 11, 10], 63.0], [[16, 5, 10], 104.0], [[16, 6, 10], 85.0], [[17, 5, 10], 117.0], [[18, 5, 10], 129.0], [[19, 5, 10], 145.0], [[19, 5, 11], 152.0], [[20, 5, 11], 179.0], [[21, 5, 11], 193.0], [[21, 6, 10], 195.0], [[22, 6, 10], 217.0], [[22, 7, 10], 227.0], [[23, 7, 10], 228.0], [[23, 8, 10], 234.0], [[23, 8, 11], 230.0], [[23, 9, 10], 243.0], [[23, 10, 10], 247.0], [[23, 11, 10], 248.0], [[24, 11, 10], 252.0], [[24, 12, 10], 258.0], [[24, 13, 10], 260.0], [[24, 14, 10], 261.0], [[25, 14, 10], 262.0], [[25, 15, 10], 264.0], [[25, 16, 10], 268.0], [[25, 17, 10], 270.0], [[25, 18, 10], 272.0], [[25, 19, 10], 274.0], [[26, 20, 9], 277.0], [[26, 20, 10], 275.0], [[27, 21, 9], 279.0], [[27, 21, 10], 280.0], [[28, 21, 10], 281.0], [[28, 22, 10], 283.0], [[29, 22, 10], 285.0], [[30, 21, 10], 287.0], [[31, 21, 10], 289.0], [[32, 20, 10], 291.0], [[33, 9, 9], 312.0], [[33, 10, 9], 307.0], [[33, 11, 10], 305.0], [[33, 12, 10], 304.0], [[33, 13, 10], 301.0], [[33, 14, 10], 300.0], [[33, 15, 10], 299.0], [[33, 16, 10], 297.0], [[33, 17, 10], 296.0], [[33, 18, 10], 294.0], [[33, 19, 10], 293.0], [[34, 13, 10], 302.0]], array([0, 0, 0, 0, 0, 0, 0, 1])], [[[[5, 11, 5], 11.0], [[5, 12, 5], 13.0], [[5, 13, 5], 15.0], [[5, 14, 5], 16.0], [[5, 15, 5], 18.0], [[5, 16, 5], 19.0], [[6, 17, 5], 21.0], [[6, 18, 5], 22.0], [[6, 19, 5], 23.0], [[7, 19, 5], 25.0], [[7, 20, 5], 26.0], [[8, 20, 6], 27.0], [[8, 21, 6], 30.0], [[9, 21, 6], 32.0], [[9, 22, 6], 34.0], [[10, 21, 7], 35.0], [[11, 21, 7], 36.0], [[11, 21, 8], 37.0], [[12, 20, 8], 38.0], [[12, 20, 9], 39.0], [[13, 18, 9], 41.0], [[13, 18, 10], 42.0], [[13, 19, 9], 40.0], [[14, 11, 10], 51.0], [[14, 12, 10], 50.0], [[14, 13, 10], 49.0], [[14, 14, 10], 48.0], [[14, 15, 10], 46.0], [[14, 16, 10], 45.0], [[14, 17, 10], 43.0], [[15, 7, 10], 58.0], [[15, 8, 10], 56.0], [[15, 9, 10], 55.0], [[15, 10, 10], 53.0], [[15, 11, 10], 52.0], [[16, 5, 10], 61.0], [[16, 6, 10], 60.0], [[17, 5, 10], 64.0], [[18, 5, 10], 65.0], [[19, 5, 10], 67.0], [[20, 5, 11], 69.0], [[21, 5, 11], 70.0], [[21, 6, 10], 71.0], [[22, 6, 10], 72.0], [[22, 7, 10], 74.0], [[23, 8, 10], 76.0], [[23, 8, 11], 75.0], [[23, 9, 10], 77.0], [[23, 10, 10], 79.0], [[24, 11, 10], 80.0], [[24, 12, 10], 81.0], [[24, 13, 10], 83.0], [[24, 14, 10], 84.0], [[25, 14, 10], 85.0], [[25, 15, 10], 86.0], [[25, 16, 10], 88.0], [[25, 17, 10], 90.0], [[25, 18, 10], 92.0], [[25, 19, 10], 94.0], [[26, 20, 9], 97.0], [[26, 20, 10], 95.0], [[27, 21, 9], 99.0], [[27, 21, 10], 100.0], [[28, 21, 10], 101.0], [[28, 22, 10], 103.0], [[29, 22, 10], 105.0], [[30, 21, 10], 107.0], [[31, 21, 10], 109.0], [[32, 20, 10], 111.0], [[33, 9, 9], 132.0], [[33, 10, 9], 127.0], [[33, 11, 10], 125.0], [[33, 12, 10], 124.0], [[33, 13, 10], 121.0], [[33, 14, 10], 120.0], [[33, 15, 10], 119.0], [[33, 16, 10], 117.0], [[33, 17, 10], 116.0], [[33, 18, 10], 114.0], [[33, 19, 10], 113.0], [[34, 13, 10], 122.0]], array([0, 0, 0, 1, 0, 0, 0, 0])]]\n"
     ]
    }
   ],
   "source": [
    "display_data = dataImporter.get_discrete4D_data(dataImporter.read_data_from_file(\"G:\\\\smartgestures\\\\python\\\\gestureData\\\\plotWave.json\"),False, False)\n",
    "\n",
    "print(display_data)\n",
    "\n",
    "\n"
   ]
  }
 ],
 "metadata": {
  "kernelspec": {
   "display_name": "Python 3",
   "language": "python",
   "name": "python3"
  },
  "language_info": {
   "codemirror_mode": {
    "name": "ipython",
    "version": 3
   },
   "file_extension": ".py",
   "mimetype": "text/x-python",
   "name": "python",
   "nbconvert_exporter": "python",
   "pygments_lexer": "ipython3",
   "version": "3.6.3"
  }
 },
 "nbformat": 4,
 "nbformat_minor": 2
}
